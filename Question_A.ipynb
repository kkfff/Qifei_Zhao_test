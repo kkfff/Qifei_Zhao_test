{
 "cells": [
  {
   "cell_type": "code",
   "execution_count": 1,
   "metadata": {},
   "outputs": [],
   "source": [
    "# Question A\n",
    "# Function to determine whether two line segments on x axis overlap\n",
    "# Input: two tuples, one for the first line and the other for the second line\n",
    "# Example: input (1,5) , (2,6)  returns True    input (1,5) , (6,8)  returns False\n",
    "def line_overlap(line1, line2):\n",
    "    if (line1[1]>=line2[0] and line1[1]<=line2[1]) or (line[0]>=line2[0] and line[0]<=line2[1]):\n",
    "        return True\n",
    "    else:\n",
    "        return False"
   ]
  },
  {
   "cell_type": "code",
   "execution_count": 2,
   "metadata": {},
   "outputs": [
    {
     "name": "stdout",
     "output_type": "stream",
     "text": [
      "True\n"
     ]
    }
   ],
   "source": [
    "print(line_overlap((1,5) , (2,6)))\n",
    "print(line_overlap((1,5) , (6,8)))"
   ]
  },
  {
   "cell_type": "code",
   "execution_count": null,
   "metadata": {},
   "outputs": [],
   "source": []
  }
 ],
 "metadata": {
  "kernelspec": {
   "display_name": "Python 3",
   "language": "python",
   "name": "python3"
  },
  "language_info": {
   "codemirror_mode": {
    "name": "ipython",
    "version": 3
   },
   "file_extension": ".py",
   "mimetype": "text/x-python",
   "name": "python",
   "nbconvert_exporter": "python",
   "pygments_lexer": "ipython3",
   "version": "3.6.5"
  }
 },
 "nbformat": 4,
 "nbformat_minor": 2
}
