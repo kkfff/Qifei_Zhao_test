{
 "cells": [
  {
   "cell_type": "code",
   "execution_count": 3,
   "metadata": {},
   "outputs": [],
   "source": [
    "import unittest\n",
    "from compare_versions import greater_than\n",
    "\n",
    "class TestCompVersions(unittest.TestCase):\n",
    "    def test_values(self):\n",
    "        # ensure exceptions are raised appropriately on invalid arguments\n",
    "        self.assertRaises(ValueError, greater_than, \".2.7\", \"1.4.0\")\n",
    "        self.assertRaises(ValueError, greater_than, \"1.2.a7\", \"1.4.0\")\n",
    "        self.assertRaises(ValueError, greater_than, \"1.2/7\", \"1.4.0\")\n",
    "        \n",
    "        self.assertRaises(ValueError, greater_than, \"1.2.7\", \".4.0\")\n",
    "        self.assertRaises(ValueError, greater_than, \"1.2.7\", \"1.4p.0\")\n",
    "        self.assertRaises(ValueError, greater_than, \"1.2.7\", \"1?4.0\")\n",
    "        \n",
    "    def test_compare(self):\n",
    "        # ensure version strings are correctly compared\n",
    "        # the cases where the first version is the same as the second\n",
    "        self.assertAlmostEqual(greater_than(\"1.0.5\", \"1.0.5\"), 0)\n",
    "        self.assertAlmostEqual(greater_than(\"3.7\", \"3.7\"), 0)\n",
    "        self.assertAlmostEqual(greater_than(\"2.6.5.3\", \"2.6.5.3\"), 0)\n",
    "        \n",
    "        # the cases where the first version is greater than the second\n",
    "        self.assertAlmostEqual(greater_than(\"1.0.5\", \"1.0.3\"), 1)\n",
    "        self.assertAlmostEqual(greater_than(\"3.2.5\", \"1.2.3\"), 1)\n",
    "        self.assertAlmostEqual(greater_than(\"3.5.3\", \"3.4.3\"), 1)\n",
    "        self.assertAlmostEqual(greater_than(\"1.5\", \"1.2.4\"), 1)\n",
    "        self.assertAlmostEqual(greater_than(\"2.4.5\", \"2.2\"), 1)\n",
    "        \n",
    "        # the cases where the second version is greater than the first\n",
    "        # just switch the first argument with the second argument on the above cases\n",
    "        self.assertAlmostEqual(greater_than(\"1.0.3\", \"1.0.5\"), -1)\n",
    "        self.assertAlmostEqual(greater_than(\"1.2.3\", \"3.2.5\"), -1)\n",
    "        self.assertAlmostEqual(greater_than(\"3.4.3\", \"3.5.3\"), -1)\n",
    "        self.assertAlmostEqual(greater_than(\"1.2.4\", \"1.5\"), -1)\n",
    "        self.assertAlmostEqual(greater_than(\"2.2\", \"2.4.5\"), -1)\n",
    "        "
   ]
  },
  {
   "cell_type": "code",
   "execution_count": null,
   "metadata": {},
   "outputs": [],
   "source": []
  }
 ],
 "metadata": {
  "kernelspec": {
   "display_name": "Python 3",
   "language": "python",
   "name": "python3"
  },
  "language_info": {
   "codemirror_mode": {
    "name": "ipython",
    "version": 3
   },
   "file_extension": ".py",
   "mimetype": "text/x-python",
   "name": "python",
   "nbconvert_exporter": "python",
   "pygments_lexer": "ipython3",
   "version": "3.6.5"
  }
 },
 "nbformat": 4,
 "nbformat_minor": 2
}
