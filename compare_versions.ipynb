{
 "cells": [
  {
   "cell_type": "code",
   "execution_count": 8,
   "metadata": {},
   "outputs": [],
   "source": [
    "# A helper function to determine if a version string is a valid version\n",
    "# Returns True if it is not valid and returns False if it is valid\n",
    "def not_valid_version(version):\n",
    "    # assume the version string should start with a number, not '.' or other characters\n",
    "    if not (version[0]>='0' and version[0]<='9'):\n",
    "        return True\n",
    "    \n",
    "    for character in version:\n",
    "        if character!='.' and not (character>='0' and character<='9'):\n",
    "            return True\n",
    "    \n",
    "    return False"
   ]
  },
  {
   "cell_type": "code",
   "execution_count": 9,
   "metadata": {},
   "outputs": [],
   "source": [
    "# Function to compare two version strings \n",
    "# Input: two strings representing versions\n",
    "# Output: 1, -1, or 0 if the first version is greater than/smaller than/the same as the second\n",
    "def greater_than(v1, v2):\n",
    "    # Check if the input strings are valid arguments\n",
    "    if not_valid_version(v1):\n",
    "        raise ValueError(\"The first input version string is not valid\")\n",
    "    if not_valid_version(v2):\n",
    "        raise ValueError(\"The second input version string is not valid\") \n",
    "    \n",
    "    # extract versions\n",
    "    ver1 = v1.split('.')\n",
    "    ver2 = v2.split('.')\n",
    "    \n",
    "    # loop and compare until finishing checking one of the version string \n",
    "    while (len(ver1)!=0 and len(ver2)!=0):\n",
    "        # return 1 if the first version is greater than the second\n",
    "        if ver1[0]>ver2[0]:\n",
    "            return 1\n",
    "        # return -1 if the first version is greater than the second\n",
    "        elif ver1[0]<ver2[0]:\n",
    "            return -1\n",
    "        else:\n",
    "            ver1.pop(0)\n",
    "            ver2.pop(0)\n",
    "    \n",
    "    # return 0 if the first version is the same as the second\n",
    "    return 0        "
   ]
  },
  {
   "cell_type": "code",
   "execution_count": null,
   "metadata": {},
   "outputs": [],
   "source": []
  }
 ],
 "metadata": {
  "kernelspec": {
   "display_name": "Python 3",
   "language": "python",
   "name": "python3"
  },
  "language_info": {
   "codemirror_mode": {
    "name": "ipython",
    "version": 3
   },
   "file_extension": ".py",
   "mimetype": "text/x-python",
   "name": "python",
   "nbconvert_exporter": "python",
   "pygments_lexer": "ipython3",
   "version": "3.6.5"
  }
 },
 "nbformat": 4,
 "nbformat_minor": 2
}
